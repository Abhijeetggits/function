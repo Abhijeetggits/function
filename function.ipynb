{
  "nbformat": 4,
  "nbformat_minor": 0,
  "metadata": {
    "colab": {
      "provenance": []
    },
    "kernelspec": {
      "name": "python3",
      "display_name": "Python 3"
    },
    "language_info": {
      "name": "python"
    }
  },
  "cells": [
    {
      "cell_type": "markdown",
      "source": [
        "Theory question\n",
        "\n"
      ],
      "metadata": {
        "id": "EnSNDijO0Q9n"
      }
    },
    {
      "cell_type": "markdown",
      "source": [
        "# 1. What is the difference between a function and a method in Python?\n",
        "\n",
        "\n",
        "🔹 Function\n",
        "-> * A function is a block of code that\n",
        "   * performs a specific task.\n",
        "   * It is defined using the def\n",
        "      keyword.\n",
        "   * It is independent and not tied to   any object.\n",
        "   * Can be called directly.\n",
        "\n",
        "   for a example:-\n",
        "     def greet(name):\n",
        "     return f\"Hello, {name}!\"\n",
        "     print(greet(\"Abhijeet\"))  # Output: Hello, Abhijeet!\n",
        "\n",
        "\n",
        "  🔹 Method\n",
        "   * A method is also a function, but it is associated with an object (usually a class instance).\n",
        "\n",
        "   * It is called using dot notation (object.method()).\n",
        "\n",
        "   * It has access to the object’s    data  via self.\n",
        "    for example:-\n",
        "    class Person:\n",
        "    def __init__(self, name):\n",
        "        self.name = name\n",
        "\n",
        "    def greet(self):\n",
        "        return f\"Hello, {self.name}!\"\n",
        "\n",
        "    p = Person(\"Abhijeet\")\n",
        "    print(p.greet())  # Output: Hello, Abhijeet!"
      ],
      "metadata": {
        "id": "MDgR4ED60wAF"
      }
    },
    {
      "cell_type": "markdown",
      "source": [
        "# 2. Explain the concept of function arguments and parameters in Python.?\n",
        "\n",
        " ->  Concept:\n",
        "  *Parameters are the variables listed inside the parentheses in the\n",
        "   function definition.\n",
        "\n",
        "  * Arguments are the values passed to the function when calling it.\n",
        "   example\n",
        "   # 'name' is a parameter\n",
        "   def greet(name):\n",
        "    print(f\"Hello, {name}!\")\n",
        "\n",
        "   # 'Abhijeet' is an argument\n",
        "   greet(\"Abhijeet\")  # Output: Hello, Abhijeet!\n",
        "\n",
        "   Types of Arguments:-\n",
        "   1. Positional Arguments\n",
        "   Values are assigned to parameters based on position.\n",
        "\n",
        "   example:-\n",
        "   def add(a, b):\n",
        "    print(a + b)\n",
        "\n",
        "   add(3, 5)  # Output: 8\n",
        "   2. Keyword Arguments\n",
        "   You specify which value goes to which parameter using the parameter name.\n",
        "\n",
        "\n",
        "    example:-\n",
        "   def introduce(name, age):\n",
        "    print(f\"My name is {name} and I am {age} years old.\")\n",
        "\n",
        "   introduce(age=25, name=\"Abhijeet\")\n",
        "   # Output: My name is Abhijeet and I am 25 years old.\n",
        "\n",
        "\n",
        "\n",
        "   3. Default Arguments\n",
        "   If a value is not provided, a default is used.\n",
        "\n",
        "   example:-\n",
        "   def greet(name=\"Guest\"):\n",
        "    print(f\"Hello, {name}!\")\n",
        "\n",
        "   greet()           # Output: Hello, Guest!\n",
        "   greet(\"Zipe\")     # Output: Hello, Zipe!\n",
        "   \n",
        "\n",
        "\n",
        "   4. Variable-length Arguments\n",
        "    a. *args (Non-keyword arguments)\n",
        "   \n",
        "    example:-\n",
        "    a def total(*numbers):\n",
        "      print(sum(numbers))\n",
        "\n",
        "    total(1, 2, 3, 4)  # Output: 10\n",
        "\n",
        "\n",
        "      b. **kwargs (Keyword arguments)\n",
        "\n",
        "      example:-\n",
        "         def info(**details):\n",
        "           for key, value in details.items():\n",
        "         print(f\"{key}: {value}\")\n",
        "\n",
        "         info(name=\"Abhijeet\", age=25)\n",
        "\n",
        "\n"
      ],
      "metadata": {
        "id": "cD-OoZJ43e6l"
      }
    },
    {
      "cell_type": "markdown",
      "source": [
        "# 3. What are the different ways to  define and call a function in Python?\n",
        "\n",
        "  -> 1. Standard Function Definition\n",
        "        Defined using def, and called by its name with parentheses.\n",
        "\n",
        "        example:-\n",
        "           def greet(name=\"Guest\"):\n",
        "         print(f\"Hello, {name}!\")\n",
        "\n",
        "        greet()             # Output: Hello, Guest!\n",
        "        greet(\"Zipe\")       # Output: Hello, Zipe!\n",
        "\n",
        "  2. Function with Default Arguments\n",
        "       Provides default values to parameters.\n",
        "       \n",
        "       example:-\n",
        "      def greet(name=\"Guest\"):\n",
        "    print(f\"Hello, {name}!\")\n",
        "\n",
        "    greet()             # Output: Hello, Guest!\n",
        "    greet(\"Zipe\")       # Output: Hello, Zipe!\n",
        "\n",
        "  3. Function with *args (Variable-Length Arguments)\n",
        "    Allows passing multiple non-keyword arguments.\n",
        "    \n",
        "    example:-\n",
        "    def add_all(*numbers):\n",
        "    print(sum(numbers))\n",
        "\n",
        "    add_all(1, 2, 3)  # Output: 6\n",
        "  4. Function with **kwargs (Keyword Variable-Length Arguments)\n",
        "     Allows passing multiple keyword arguments.\n",
        "\n",
        "      example:-\n",
        "     def show_info(**data):\n",
        "    for key, value in data.items():\n",
        "        print(f\"{key}: {value}\")\n",
        "\n",
        "    show_info(name=\"Abhijeet\", age=25)\n",
        "\n",
        "  5. Lambda Function (Anonymous Function)\n",
        "      Used for simple, one-line functions.\n",
        "\n",
        "      example:-\n",
        "      square = lambda x: x * x\n",
        "      print(square(5))  # Output: 25\n",
        "\n",
        "  6. Calling a Function from Another Function\n",
        "     You can call one function inside another.\n",
        "\n",
        "     example:-\n",
        "     def greet(name):\n",
        "    return f\"Hello, {name}\"\n",
        "\n",
        "      def welcome(name):\n",
        "      message = greet(name)\n",
        "     print(message)\n",
        "\n",
        "   welcome(\"Abhijeet\")  # Output: Hello, Abhijeet\n",
        "\n",
        "  7. Function as an Argument to Another Function\n",
        "\n",
        "      example:-\n",
        "    def shout(text):\n",
        "    return text.upper()\n",
        "\n",
        "    def speak_loud(func, message):\n",
        "    print(func(message))\n",
        "\n",
        "    speak_loud(shout, \"hello\")  # Output: HELLO\n"
      ],
      "metadata": {
        "id": "894J9F7n6dui"
      }
    },
    {
      "cell_type": "markdown",
      "source": [
        "# 4. What is the purpose of the `return` statement in a Python function?\n",
        "\n",
        " -> . The return statement is used to send back a value from a function to\n",
        "     the caller.\n",
        "\n",
        "    . It ends the function’s execution immediately.\n",
        "\n",
        "    . The returned value can be stored in a variable, printed, or used in further calculations.\n",
        "\n",
        "      example:-\n",
        "      def add(a, b):\n",
        "       result = a + b\n",
        "     return result\n",
        "\n",
        "     # Calling the function and storing the return value\n",
        "      sum = add(3, 5)\n",
        "      print(sum)  # Output: 8\n"
      ],
      "metadata": {
        "id": "C2YFbHmX9ECv"
      }
    },
    {
      "cell_type": "markdown",
      "source": [
        "# 5. What are iterators in Python and how do they differ from iterables?\n",
        "\n",
        "  -> . Iterable:\n",
        "     1. An iterable is any Python object capable of returning its members one at a time.\n",
        "\n",
        "    2. It must implement the __iter__() method.\n",
        "    3. Examples: lists, strings, tuples, sets, dictionaries\n",
        "     \n",
        "     example:-\n",
        "     my_list = [1, 2, 3]\n",
        "\n",
        "     # This is iterable\n",
        "     for num in my_list:\n",
        "     print(num)\n",
        "\n",
        "   . Iterator\n",
        "    1.An iterator is an object that remembers its position during\n",
        "       iteration.\n",
        "\n",
        "     It implements both:\n",
        "\n",
        "     __iter__() → returns itself\n",
        "\n",
        "     __next__() → returns the next value or raises StopIteration if done\n",
        "\n",
        "    2.  You get an iterator by calling iter() on an iterable.\n",
        "\n",
        "        example:-\n",
        "        my_list = [1, 2, 3]\n",
        "        it = iter(my_list)  # Now it's an iterator\n",
        "\n",
        "         print(next(it))  # Output: 1\n",
        "        print(next(it))  # Output: 2\n",
        "        print(next(it))  # Output: 3\n",
        "        # next(it) now will raise StopIteration\n",
        "\n",
        "        example:-\n",
        "        my_list = [1, 2, 3]\n",
        "        it = iter(my_list)  # Now it's an iterator\n",
        "\n",
        "       print(next(it))  # Output: 1\n",
        "       print(next(it))  # Output: 2\n",
        "       print(next(it))  # Output: 3\n",
        "       # next(it) now will raise StopIteration\n",
        "\n"
      ],
      "metadata": {
        "id": "Aku7R9Yq93m3"
      }
    },
    {
      "cell_type": "markdown",
      "source": [
        "# 6. Explain the concept of generators in Python and how they are defined.\n",
        "\n",
        " -> 1. A generator is a special type of iterator that yields values one at\n",
        "        a\n",
        "    2. time using the yield keyword instead of return.\n",
        "\n",
        "    3.It doesn’t store the entire result in memory.\n",
        "\n",
        "    4. Values are produced on demand (lazy evaluation).\n",
        "\n",
        "    5. Generator functions automatically create iterator objects.\n",
        "\n",
        "    example:-\n",
        "    def count_up_to(n):\n",
        "    count = 1\n",
        "    while count <= n:\n",
        "        yield count\n",
        "        count += 1\n",
        "\n",
        "    gen = count_up_to(3)\n",
        "\n",
        "   print(next(gen))  # Output: 1\n",
        "   print(next(gen))  # Output: 2\n",
        "   print(next(gen))  # Output: 3\n",
        "   # next(gen) now will raise StopIteration\n"
      ],
      "metadata": {
        "id": "6g_Jq7Vf_ne_"
      }
    },
    {
      "cell_type": "markdown",
      "source": [
        "# 7. What are the advantages of using generators over regular functions?\n",
        "\n",
        "  ->  Advantages of Using Generators Over Regular Functions\n",
        "     Memory efficient: generates one value at a time without storing the entire sequence.\n",
        "\n",
        "    1.Faster execution: starts producing values immediately without building the whole list.\n",
        "\n",
        "    2.Lazy evaluation: produces values only when needed, saving time and resources.\n",
        "\n",
        "    3.Supports infinite sequences: can generate endless data like counters or streams.\n",
        "\n",
        "    4.Cleaner code: avoids manually creating and returning large lists.\n",
        "\n",
        "    5.Iterator support: works naturally with for loops and next() calls.\n",
        "\n",
        "\n",
        "\n",
        "\n"
      ],
      "metadata": {
        "id": "IVrEcVj9Aop6"
      }
    },
    {
      "cell_type": "markdown",
      "source": [
        "# 8. What is a lambda function in Python and when is it typically used?\n",
        "\n",
        "  -> A lambda function in Python is a small anonymous function defined\n",
        "     with\n",
        "     the lambda keyword that takes any number of arguments but contains only a single expression, and it is typically used for short, simple functions especially as arguments to functions like map(), filter(), and sorted()."
      ],
      "metadata": {
        "id": "fwqD556RBpCf"
      }
    },
    {
      "cell_type": "markdown",
      "source": [
        "# 9. Explain the purpose and usage of the `map()` function in Python.\n",
        "\n",
        " -> The map() function in Python applies a given function to each item of\n",
        "     an iterable (like a list) and returns an iterator with the results.\n",
        "\n",
        "     example:-\n",
        "      nums = [1, 2, 3, 4]\n",
        "     squares = map(lambda x: x**2, nums)\n",
        "     print(list(squares))  # Output: [1, 4, 9, 16]\n"
      ],
      "metadata": {
        "id": "Ir6kFdSqCF9X"
      }
    },
    {
      "cell_type": "markdown",
      "source": [
        "# 10. What is the difference between `map()`, `reduce()`, and `filter()`\n",
        "      functions in Python?\n",
        "\n",
        "  -> map() applies a function to all items in an iterable and returns an\n",
        "     iterator of results, filter() applies a function that returns True or False to filter items from an iterable, and reduce() (from functools) applies a rolling computation to pairs of items in an iterable to reduce it to a single cumulative value.\n",
        "\n",
        "      example:-\n",
        "      from functools import reduce\n",
        "\n",
        "     # map(): squares each number\n",
        "     print(list(map(lambda x: x**2, [1, 2, 3, 4])))  # Output: [1, 4, 9, 16]\n",
        "\n",
        "     # filter(): keeps only even numbers\n",
        "     print(list(filter(lambda x: x % 2 == 0, [1, 2, 3, 4])))  # Output: [2, 4]\n",
        "\n",
        "    # reduce(): sums all numbers\n",
        "    print(reduce(lambda x, y: x + y, [1, 2, 3, 4]))  # Output: 10\n"
      ],
      "metadata": {
        "id": "bdK35E6HCjRa"
      }
    },
    {
      "cell_type": "markdown",
      "source": [
        "# 11. Using pen & Paper write the internal mechanism for sum operation\n",
        "    using  reduce function on this given\n",
        "    list:[47,11,42,13];\n",
        "\n",
        "    -> reduce(lambda x, y: x + y, [47, 11, 42, 13])\n",
        "\n",
        "      example:-\n",
        "      Initial List:       [47, 11, 42, 13]\n",
        "\n",
        "      Step 1: 47 + 11 = 58         → intermediate result\n",
        "      Step 2: 58 + 42 = 100        → intermediate result\n",
        "      Step 3: 100 + 13 = 113       → final result\n",
        "\n",
        "      Final Output: 113\n",
        "      \n",
        "\n"
      ],
      "metadata": {
        "id": "v-B1JwyQDG_a"
      }
    },
    {
      "cell_type": "markdown",
      "source": [
        "# practice question"
      ],
      "metadata": {
        "id": "0xPrHrxjgJn8"
      }
    },
    {
      "cell_type": "code",
      "source": [
        "# 1. Write a Python function that takes a list of numbers as input and returns the sum of all even numbers in the list.\n",
        "\n",
        "def sum_of_even_numbers(numbers):\n",
        "    even_sum = 0\n",
        "    for num in numbers:\n",
        "        if num % 2 == 0:\n",
        "            even_sum += num\n",
        "    return even_sum\n",
        "\n",
        "my_list = [1, 2, 3, 4, 5, 6]\n",
        "result = sum_of_even_numbers(my_list)\n",
        "print(\"Sum of even numbers:\", result)\n",
        "\n",
        "\n",
        "\n"
      ],
      "metadata": {
        "colab": {
          "base_uri": "https://localhost:8080/"
        },
        "id": "e_dKWdXygTZZ",
        "outputId": "154e7a98-d71c-4801-e4a4-2db1c62b37f5"
      },
      "execution_count": null,
      "outputs": [
        {
          "output_type": "stream",
          "name": "stdout",
          "text": [
            "Sum of even numbers: 12\n"
          ]
        }
      ]
    },
    {
      "cell_type": "code",
      "source": [
        "# 2. Create a Python function that accepts a string and returns the reverse of that string.\n",
        "\n",
        "def reverse_string(s):\n",
        "    return s[::-1]\n",
        "text = \"pwskills\"\n",
        "reversed_text = reverse_string(text)\n",
        "print(\"Reversed string:\", reversed_text)\n",
        "\n",
        "\n",
        "\n"
      ],
      "metadata": {
        "id": "ay2bw5R2joF4",
        "colab": {
          "base_uri": "https://localhost:8080/"
        },
        "outputId": "b5b438cb-d534-4469-e457-fbf0990ea62f"
      },
      "execution_count": null,
      "outputs": [
        {
          "output_type": "stream",
          "name": "stdout",
          "text": [
            "Reversed string: sllikswp\n"
          ]
        }
      ]
    },
    {
      "cell_type": "code",
      "source": [
        "# 3. Implement a Python function that takes a list of integers and returns a new list containing the squares ofeach number.\n",
        "\n",
        "def square_numbers(numbers):\n",
        "    return [num ** 2 for num in numbers]\n",
        "my_list = [1, 2, 3, 4, 5]\n",
        "squared_list = square_numbers(my_list)\n",
        "print(\"Squared numbers:\", squared_list)\n"
      ],
      "metadata": {
        "colab": {
          "base_uri": "https://localhost:8080/"
        },
        "id": "59pfuN0LoDFC",
        "outputId": "43c6c47c-9998-45de-d634-0440ca3503a4"
      },
      "execution_count": null,
      "outputs": [
        {
          "output_type": "stream",
          "name": "stdout",
          "text": [
            "Squared numbers: [1, 4, 9, 16, 25]\n"
          ]
        }
      ]
    },
    {
      "cell_type": "code",
      "source": [
        "# 4. Write a Python function that checks if a given number is prime or not from 1 to 200.\n",
        "def is_prime(n):\n",
        "    if n < 2 or n > 200:\n",
        "        return False  # Not in the valid range\n",
        "    for i in range(2, int(n**0.5) + 1):\n",
        "        if n % i == 0:\n",
        "            return False\n",
        "    return True\n",
        "number = 97\n",
        "if is_prime(number):\n",
        "    print(f\"{number} is a prime number.\")\n",
        "else:\n",
        "    print(f\"{number} is not a prime number.\")\n"
      ],
      "metadata": {
        "colab": {
          "base_uri": "https://localhost:8080/"
        },
        "id": "Fax3_EGpo-Uw",
        "outputId": "804d3e77-c112-4f07-caf7-b392efdcc46f"
      },
      "execution_count": null,
      "outputs": [
        {
          "output_type": "stream",
          "name": "stdout",
          "text": [
            "97 is a prime number.\n"
          ]
        }
      ]
    },
    {
      "cell_type": "code",
      "source": [
        "# 5. Create an iterator class in Python that generates the Fibonacci sequence up to a specified number of terms.\n",
        "\n",
        "class Fibonacci:\n",
        "    def __init__(self, n):\n",
        "        self.n = n\n",
        "        self.i = 0\n",
        "        self.a, self.b = 0, 1\n",
        "\n",
        "    def __iter__(self):\n",
        "        return self\n",
        "\n",
        "    def __next__(self):\n",
        "        if self.i >= self.n:\n",
        "            raise StopIteration\n",
        "        if self.i == 0:\n",
        "            self.i += 1\n",
        "            return 0\n",
        "        elif self.i == 1:\n",
        "            self.i += 1\n",
        "            return 1\n",
        "        else:\n",
        "            self.a, self.b = self.b, self.a + self.b\n",
        "            self.i += 1\n",
        "            return self.a\n",
        "fib = Fibonacci(10)  # first 5 Fibonacci numbers\n",
        "for num in fib:\n",
        "    print(num)\n"
      ],
      "metadata": {
        "colab": {
          "base_uri": "https://localhost:8080/"
        },
        "id": "OvWnxlhZqCbi",
        "outputId": "fdb21aed-47ac-4266-81e1-67810611dc53"
      },
      "execution_count": null,
      "outputs": [
        {
          "output_type": "stream",
          "name": "stdout",
          "text": [
            "0\n",
            "1\n",
            "1\n",
            "1\n",
            "2\n",
            "3\n",
            "5\n",
            "8\n",
            "13\n",
            "21\n"
          ]
        }
      ]
    },
    {
      "cell_type": "code",
      "source": [
        "# 6. Write a generator function in Python that yields the powers of 2 up to a given exponent.\n",
        "def powers_of_two(max_exponent):\n",
        "    for i in range(max_exponent + 1):\n",
        "        yield 2 ** i\n",
        "for power in powers_of_two(5):\n",
        "    print(power)\n",
        "\n"
      ],
      "metadata": {
        "colab": {
          "base_uri": "https://localhost:8080/"
        },
        "id": "ZGvi0DOStL7n",
        "outputId": "219771d5-ad9f-49bf-cca9-38e719033c4a"
      },
      "execution_count": null,
      "outputs": [
        {
          "output_type": "stream",
          "name": "stdout",
          "text": [
            "1\n",
            "2\n",
            "4\n",
            "8\n",
            "16\n",
            "32\n"
          ]
        }
      ]
    },
    {
      "cell_type": "code",
      "source": [
        "# 7. Implement a generator function that reads a file line by line and yields each line as a string.\n",
        "\n",
        "def read_file_line_by_line(file_path):\n",
        "    \"\"\"Generator that yields each line of the file as a string.\"\"\"\n",
        "    try:\n",
        "        with open(file_path, 'r') as file:\n",
        "            for line in file:\n",
        "                yield line.rstrip('\\n')  # You can also use .strip() if you want to remove all whitespace\n",
        "    except FileNotFoundError:\n",
        "        print(f\"Error: File '{file_path}' not found. Creating an example file...\")\n",
        "        with open(file_path, 'w') as file:\n",
        "            file.write(\"This is line 1.\\n\")\n",
        "            file.write(\"This is line 2.\\n\")\n",
        "            file.write(\"This is line 3.\\n\")\n",
        "        print(f\"File '{file_path}' created with example content.\")\n",
        "\n",
        "# Example usage:\n",
        "file_path = 'example.txt'  # Replace with the actual path to your file if it's different\n",
        "\n",
        "for line in read_file_line_by_line(file_path):\n",
        "    print(line)\n",
        "\n",
        "\n",
        "\n",
        "\n",
        "\n"
      ],
      "metadata": {
        "colab": {
          "base_uri": "https://localhost:8080/"
        },
        "id": "9xPggKGFuzUP",
        "outputId": "a3aa57bb-5312-4a55-c9cf-abf184ad1ec4"
      },
      "execution_count": null,
      "outputs": [
        {
          "output_type": "stream",
          "name": "stdout",
          "text": [
            "This is line 1.\n",
            "This is line 2.\n",
            "This is line 3.\n"
          ]
        }
      ]
    },
    {
      "cell_type": "code",
      "source": [
        "# 8. Use a lambda function in Python to sort a list of tuples based on the second element of each tuple.\n",
        "\n",
        "\n",
        "tuples_list = [(1, 3), (4, 1), (5, 2), (2, 4)]\n",
        "\n",
        "# Sort based on second element using lambda\n",
        "sorted_list = sorted(tuples_list, key=lambda x: x[1])\n",
        "\n",
        "print(sorted_list)\n"
      ],
      "metadata": {
        "colab": {
          "base_uri": "https://localhost:8080/"
        },
        "id": "IqNNaF8txwsK",
        "outputId": "005af97c-a00c-4f70-bf10-78e08064fe93"
      },
      "execution_count": null,
      "outputs": [
        {
          "output_type": "stream",
          "name": "stdout",
          "text": [
            "[(4, 1), (5, 2), (1, 3), (2, 4)]\n"
          ]
        }
      ]
    },
    {
      "cell_type": "code",
      "source": [
        "# 9. Write a Python program that uses `map()` to convert a list of temperatures from Celsius to Fahrenheit.\n",
        "\n",
        "def celsius_to_fahrenheit(c):\n",
        "    return (c * 9/5) + 32\n",
        "\n",
        "celsius_temps = [0, 20, 37, 100]\n",
        "\n",
        "fahrenheit_temps = list(map(celsius_to_fahrenheit, celsius_temps))\n",
        "\n",
        "print(fahrenheit_temps)\n"
      ],
      "metadata": {
        "colab": {
          "base_uri": "https://localhost:8080/"
        },
        "id": "JJfzKlH_x5X3",
        "outputId": "0b586860-3174-4e47-95df-c9996f778089"
      },
      "execution_count": null,
      "outputs": [
        {
          "output_type": "stream",
          "name": "stdout",
          "text": [
            "[32.0, 68.0, 98.6, 212.0]\n"
          ]
        }
      ]
    },
    {
      "cell_type": "code",
      "source": [
        "# 10. Create a Python program that uses `filter()` to remove all the vowels from a given string.\n",
        "def remove_vowels(s):\n",
        "    vowels = 'aeiouAEIOU'\n",
        "    return ''.join(filter(lambda ch: ch not in vowels, s))\n",
        "\n",
        "text = \"Hello World\"\n",
        "result = remove_vowels(text)\n",
        "print(result)\n"
      ],
      "metadata": {
        "colab": {
          "base_uri": "https://localhost:8080/"
        },
        "id": "jYMRKBp6yM0i",
        "outputId": "9efe4384-9b4c-45cf-aa25-a9d94d1f79dc"
      },
      "execution_count": null,
      "outputs": [
        {
          "output_type": "stream",
          "name": "stdout",
          "text": [
            "Hll Wrld\n"
          ]
        }
      ]
    },
    {
      "cell_type": "code",
      "source": [
        "# 11) Imagine an accounting routine used in a book shop. It works on a list with sublists, which look like this:\n",
        "'''\n",
        "  Write a Python program, which returns a list with 2-tuples. Each tuple consists of the order number and the\n",
        "  product of the price per item and the quantity. The product should be increased by 10,- € if the value of the\n",
        "  order is smaller than 100,00 €.'''\n",
        "\n",
        "\n",
        "def process_orders(orders):\n",
        "    result = []\n",
        "    for order in orders:\n",
        "        order_number = order[0]\n",
        "        quantity = order[2]\n",
        "        price_per_item = order[3]\n",
        "        total = quantity * price_per_item\n",
        "        if total < 100:\n",
        "            total += 10  # Add surcharge\n",
        "        result.append((order_number, round(total, 2)))\n",
        "    return result\n",
        "\n",
        "# Example order list\n",
        "orders = [\n",
        "    [34587, \"Learning Python\", 4, 40.95],\n",
        "    [98762, \"Programming Python\", 5, 56.80],\n",
        "    [77226, \"Head First Python\", 3, 32.95],\n",
        "    [88112, \"Einführung in Python3\", 3, 24.99]\n",
        "]\n",
        "\n",
        "# Process and print result\n",
        "processed = process_orders(orders)\n",
        "print(processed)\n",
        "\n",
        "\n",
        "\n"
      ],
      "metadata": {
        "colab": {
          "base_uri": "https://localhost:8080/"
        },
        "id": "s26RgNnLyhZR",
        "outputId": "2a4047f9-96c9-4ed4-a6a8-6fb13c4861f8"
      },
      "execution_count": null,
      "outputs": [
        {
          "output_type": "stream",
          "name": "stdout",
          "text": [
            "[(34587, 163.8), (98762, 284.0), (77226, 108.85), (88112, 84.97)]\n"
          ]
        }
      ]
    }
  ]
}